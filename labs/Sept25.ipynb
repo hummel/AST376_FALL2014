{
 "metadata": {
  "name": "",
  "signature": "sha256:3c81f697b188a90b3fbaeae4c672b8894a8987478bc9730f09f469617d061c89"
 },
 "nbformat": 3,
 "nbformat_minor": 0,
 "worksheets": [
  {
   "cells": [
    {
     "cell_type": "code",
     "collapsed": false,
     "input": [
      "%matplotlib inline\n",
      "import numpy as np\n",
      "from scipy import interpolate\n",
      "#import seaborn as sns\n",
      "from matplotlib import pyplot as plt"
     ],
     "language": "python",
     "metadata": {},
     "outputs": [],
     "prompt_number": 41
    },
    {
     "cell_type": "code",
     "collapsed": false,
     "input": [
      "#sns.set_context('notebook')"
     ],
     "language": "python",
     "metadata": {},
     "outputs": [],
     "prompt_number": 38
    },
    {
     "cell_type": "code",
     "collapsed": false,
     "input": [
      "ams = np.loadtxt('ams.dat')"
     ],
     "language": "python",
     "metadata": {},
     "outputs": [],
     "prompt_number": 4
    },
    {
     "cell_type": "code",
     "collapsed": false,
     "input": [
      "spl = interpolate.UnivariateSpline(ams[20:,0], ams[20:,3], s=.01)\n",
      "\n",
      "plt.errorbar(ams[:,0], ams[:,3], yerr=ams[:,-1], ls='none')\n",
      "plt.loglog(ams[:,0], ams[:,3], 'ko', ms=3)\n",
      "x = np.logspace(1, 3, 100)\n",
      "plt.plot(x, spl(x))\n",
      "plt.xlim(1.5, 500)\n",
      "plt.ylim(.02, .2)\n",
      "plt.xlabel('Energy [GeV]')\n",
      "plt.ylabel('Positron Fraction')"
     ],
     "language": "python",
     "metadata": {},
     "outputs": [
      {
       "metadata": {},
       "output_type": "pyout",
       "prompt_number": 105,
       "text": [
        "<matplotlib.text.Text at 0x11e620810>"
       ]
      },
      {
       "metadata": {},
       "output_type": "display_data",
       "png": "[encoded data removed]",
       "text": [
        "<matplotlib.figure.Figure at 0x11e02f990>"
       ]
      }
     ],
     "prompt_number": 105
    },
    {
     "cell_type": "code",
     "collapsed": false,
     "input": [
      "y = spl(x)\n",
      "x[y.argmax()]"
     ],
     "language": "python",
     "metadata": {},
     "outputs": [
      {
       "metadata": {},
       "output_type": "pyout",
       "prompt_number": 104,
       "text": [
        "259.50242113997371"
       ]
      }
     ],
     "prompt_number": 104
    }
   ],
   "metadata": {}
  }
 ]
}