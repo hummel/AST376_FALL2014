{
 "metadata": {
  "name": "",
  "signature": "sha256:9afe38683e8e2b433f90ba5d06b02528df18eb7dd9f64d9bbb73e4ff5b8920ee"
 },
 "nbformat": 3,
 "nbformat_minor": 0,
 "worksheets": [
  {
   "cells": [
    {
     "cell_type": "heading",
     "level": 1,
     "metadata": {},
     "source": [
      "Homework 3 Solution"
     ]
    },
    {
     "cell_type": "heading",
     "level": 6,
     "metadata": {},
     "source": [
      "This notebook contains the solution for AST376 Homework 3, which was due on 10/23/14."
     ]
    },
    {
     "cell_type": "code",
     "collapsed": false,
     "input": [
      "#Embed the webpage, because why not?\n",
      "from IPython.display import HTML\n",
      "HTML('<iframe src=http://www.as.utexas.edu/~gebhardt/a376f14/hw3.html width=1000 height=300> </iframe>')"
     ],
     "language": "python",
     "metadata": {},
     "outputs": [
      {
       "html": [
        "<iframe src=http://www.as.utexas.edu/~gebhardt/a376f14/hw3.html width=1000 height=300> </iframe>"
       ],
       "metadata": {},
       "output_type": "pyout",
       "prompt_number": 8,
       "text": [
        "<IPython.core.display.HTML at 0x104476d90>"
       ]
      }
     ],
     "prompt_number": 8
    },
    {
     "cell_type": "heading",
     "level": 3,
     "metadata": {},
     "source": [
      "First, download the [data](http://www.as.utexas.edu/~gebhardt/a376f14/sn_data_kessler_mlcs.txt)."
     ]
    },
    {
     "cell_type": "markdown",
     "metadata": {},
     "source": [
      "Just to show you what is possible, I'll do this using `urllib2`. Just clicking the link and saving it to your computer manually is completely acceptable."
     ]
    },
    {
     "cell_type": "code",
     "collapsed": false,
     "input": [
      "import urllib2\n",
      "SNdata = urllib2.urlopen('http://www.as.utexas.edu/~gebhardt/a376f14/sn_data_kessler_mlcs.txt')\n",
      "with open('data/SNdata.txt', 'w') as datafile:\n",
      "    datafile.write(SNdata.read())"
     ],
     "language": "python",
     "metadata": {},
     "outputs": [],
     "prompt_number": 27
    },
    {
     "cell_type": "heading",
     "level": 3,
     "metadata": {},
     "source": [
      "Now let's load the data into a Numpy array."
     ]
    },
    {
     "cell_type": "code",
     "collapsed": false,
     "input": [
      "import numpy as np\n",
      "SNdata = np.loadtxt('data/SNdata.txt')\n",
      "z_data = SNdata[:,0]\n",
      "DM_data = SNdata[:,1]\n",
      "DM_err = SNdata[:,2]"
     ],
     "language": "python",
     "metadata": {},
     "outputs": [],
     "prompt_number": 30
    },
    {
     "cell_type": "code",
     "collapsed": false,
     "input": [],
     "language": "python",
     "metadata": {},
     "outputs": []
    }
   ],
   "metadata": {}
  }
 ]
}